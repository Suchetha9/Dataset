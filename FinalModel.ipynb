{
 "cells": [
  {
   "cell_type": "code",
   "execution_count": 7,
   "metadata": {},
   "outputs": [],
   "source": [
    "import os\n",
    "\n",
    "\n",
    "\n",
    "os.environ['TF_CPP_MIN_LOG_LEVEL'] = '2'\n",
    "from datetime import datetime\n",
    "\n",
    "import numpy as np\n",
    "import pandas as pd\n",
    "import tensorflow as tf\n",
    "from keras.models import load_model\n",
    "from sklearn.metrics import accuracy_score, confusion_matrix\n",
    "from sklearn.model_selection import train_test_split\n",
    "from sklearn.preprocessing import StandardScaler\n",
    "from sklearn.utils import shuffle\n",
    "from tensorflow.keras import regularizers\n",
    "from tensorflow.keras.layers import Dense, Dropout\n",
    "from tensorflow.keras.models import Sequential\n",
    "from sklearn.metrics import precision_score, recall_score, f1_score\n"
   ]
  },
  {
   "cell_type": "code",
   "execution_count": 8,
   "metadata": {},
   "outputs": [
    {
     "name": "stdout",
     "output_type": "stream",
     "text": [
      "-----------------------------------------------------------------------------------------------------------------------------------------------------------\n",
      "Flow Training ...\n"
     ]
    },
    {
     "name": "stderr",
     "output_type": "stream",
     "text": [
      "/tmp/ipykernel_47421/3968409797.py:6: FutureWarning: The default value of regex will change from True to False in a future version. In addition, single character regular expressions will *not* be treated as literal strings when regex=True.\n",
      "  flow_dataset.iloc[:, 2] = flow_dataset.iloc[:, 2].str.replace('.', '')\n",
      "/tmp/ipykernel_47421/3968409797.py:7: FutureWarning: The default value of regex will change from True to False in a future version. In addition, single character regular expressions will *not* be treated as literal strings when regex=True.\n",
      "  flow_dataset.iloc[:, 3] = flow_dataset.iloc[:, 3].str.replace('.', '')\n",
      "/tmp/ipykernel_47421/3968409797.py:8: FutureWarning: The default value of regex will change from True to False in a future version. In addition, single character regular expressions will *not* be treated as literal strings when regex=True.\n",
      "  flow_dataset.iloc[:, 5] = flow_dataset.iloc[:, 5].str.replace('.', '')\n"
     ]
    },
    {
     "name": "stdout",
     "output_type": "stream",
     "text": [
      "Epoch 1/5\n",
      "12813/12813 [==============================] - 43s 3ms/step - loss: 0.3416 - accuracy: 0.9487 - val_loss: 0.1936 - val_accuracy: 0.9627\n",
      "Epoch 2/5\n",
      "12813/12813 [==============================] - 42s 3ms/step - loss: 0.2077 - accuracy: 0.9545 - val_loss: 0.1697 - val_accuracy: 0.9643\n",
      "Epoch 3/5\n",
      "12813/12813 [==============================] - 41s 3ms/step - loss: 0.1970 - accuracy: 0.9560 - val_loss: 0.1706 - val_accuracy: 0.9663\n",
      "Epoch 4/5\n",
      "12813/12813 [==============================] - 43s 3ms/step - loss: 0.1923 - accuracy: 0.9567 - val_loss: 0.1629 - val_accuracy: 0.9670\n",
      "Epoch 5/5\n",
      "12813/12813 [==============================] - 42s 3ms/step - loss: 0.1886 - accuracy: 0.9573 - val_loss: 0.1584 - val_accuracy: 0.9695\n"
     ]
    },
    {
     "name": "stderr",
     "output_type": "stream",
     "text": [
      "/home/m3gan/.local/lib/python3.11/site-packages/keras/src/engine/training.py:3103: UserWarning: You are saving your model as an HDF5 file via `model.save()`. This file format is considered legacy. We recommend using instead the native Keras format, e.g. `model.save('my_model.keras')`.\n",
      "  saving_api.save_model(\n"
     ]
    },
    {
     "name": "stdout",
     "output_type": "stream",
     "text": [
      "5695/5695 [==============================] - 6s 1ms/step\n",
      "------------------------------------------------------------------------------\n",
      "confusion matrix\n",
      "[[81928  8833]\n",
      " [    3 91460]]\n",
      "success accuracy = 95.15 %\n",
      "fail accuracy = 4.85 %\n",
      "Precision: 0.91%\n",
      "Recall: 1.00%\n",
      "F1 Score: 0.95%\n",
      "------------------------------------------------------------------------------\n"
     ]
    }
   ],
   "source": [
    "print('-----------------------------------------------------------------------------------------------------------------------------------------------------------')\n",
    "print(\"Flow Training ...\")\n",
    "\n",
    "flow_dataset = pd.read_csv('FlowStatsfile.csv')\n",
    "flow_dataset = flow_dataset.sample(frac=1).reset_index(drop=True)\n",
    "flow_dataset.iloc[:, 2] = flow_dataset.iloc[:, 2].str.replace('.', '')\n",
    "flow_dataset.iloc[:, 3] = flow_dataset.iloc[:, 3].str.replace('.', '')\n",
    "flow_dataset.iloc[:, 5] = flow_dataset.iloc[:, 5].str.replace('.', '')\n",
    "\n",
    "X_flow = flow_dataset.iloc[:, :-1].values\n",
    "X_flow = StandardScaler().fit_transform(X_flow)\n",
    "y_flow = flow_dataset.iloc[:, -1].values\n",
    "\n",
    "# Undersample the majority class (label 1) before splitting\n",
    "count_class_0, count_class_1 = np.bincount(y_flow)\n",
    "indices_class_0 = np.where(y_flow == 0)[0]\n",
    "indices_class_1 = np.where(y_flow == 1)[0][:count_class_0]\n",
    "indices_undersampled = np.concatenate([indices_class_0, indices_class_1])\n",
    "X_flow_undersampled, y_flow_undersampled = X_flow[indices_undersampled], y_flow[indices_undersampled]\n",
    "\n",
    "# Shuffle the undersampled data\n",
    "X_flow_undersampled, y_flow_undersampled = shuffle(X_flow_undersampled, y_flow_undersampled)\n",
    "\n",
    "X_flow_train, X_flow_test, y_flow_train, y_flow_test = train_test_split(X_flow_undersampled, y_flow_undersampled, test_size=0.10, random_state=0)\n",
    "model = Sequential([\n",
    "\n",
    "    Dense(512, activation='relu', kernel_regularizer=regularizers.l2(0.06), input_shape=(X_flow_train.shape[1],)),Dropout(0.6),#Increase neurons in the first layer\n",
    "    Dense(256, activation='relu', kernel_regularizer=regularizers.l2(0.06)),Dropout(0.65),  # Increase neurons in the second layer\n",
    "    Dense(128, activation='relu', kernel_regularizer=regularizers.l2(0.06)),Dropout(0.65),  # Increase neurons in the third layer\n",
    "    Dense(1, activation='sigmoid')  # Increase neurons in the last layer to 1\n",
    "])\n",
    "# Compile the model\n",
    "model.compile(optimizer='adam', loss='binary_crossentropy', metrics=['accuracy'])\n",
    "# Train the model\n",
    "model.fit(X_flow_train, y_flow_train, epochs=5, batch_size=128, validation_data=(X_flow_test, y_flow_test))\n",
    "# Saving the model as a file in the current directory\n",
    "model.save('./FCNN_TrainedModel.h5')\n",
    "flow_model = model\n",
    "scaler = StandardScaler()\n",
    "X_flow_train = scaler.fit_transform(X_flow_train)\n",
    "X_flow_test = scaler.transform(X_flow_test)\n",
    "\n",
    "y_flow_pre = model.predict(X_flow_test)\n",
    "y_flow_pred = (y_flow_pre > 0.5).astype(int)\n",
    "print(\"------------------------------------------------------------------------------\")\n",
    "print(\"confusion matrix\")\n",
    "cm = confusion_matrix(y_flow_test, y_flow_pred)\n",
    "precision = precision_score(y_flow_test, y_flow_pred)\n",
    "recall = recall_score(y_flow_test, y_flow_pred)\n",
    "f1 = f1_score(y_flow_test, y_flow_pred)\n",
    "print(cm)\n",
    "acc = accuracy_score(y_flow_test, y_flow_pred)\n",
    "print(\"success accuracy = {0:.2f} %\".format(acc*100))\n",
    "fail = 1.0 - acc\n",
    "print(\"fail accuracy = {0:.2f} %\".format(fail*100))\n",
    "print(\"Precision: {0:.2f}%\".format(precision))\n",
    "print(\"Recall: {0:.2f}%\".format(recall))\n",
    "print(\"F1 Score: {0:.2f}%\".format(f1))\n",
    "print(\"------------------------------------------------------------------------------\")\n"
   ]
  }
 ],
 "metadata": {
  "kernelspec": {
   "display_name": "Python 3",
   "language": "python",
   "name": "python3"
  },
  "language_info": {
   "codemirror_mode": {
    "name": "ipython",
    "version": 3
   },
   "file_extension": ".py",
   "mimetype": "text/x-python",
   "name": "python",
   "nbconvert_exporter": "python",
   "pygments_lexer": "ipython3",
   "version": "3.11.5"
  },
  "orig_nbformat": 4
 },
 "nbformat": 4,
 "nbformat_minor": 2
}
